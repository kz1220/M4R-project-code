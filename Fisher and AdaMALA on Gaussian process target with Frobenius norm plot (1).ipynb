{
 "cells": [
  {
   "cell_type": "code",
   "execution_count": 1,
   "id": "3889e8c1",
   "metadata": {},
   "outputs": [],
   "source": [
    "import numpy as np\n",
    "import jax\n",
    "import matplotlib.pyplot as plt"
   ]
  },
  {
   "cell_type": "markdown",
   "id": "5eb15844",
   "metadata": {},
   "source": [
    "# Gaussian process(100 dimensional Gaussian)"
   ]
  },
  {
   "attachments": {
    "covariance.png": {
     "image/png": "[encoded data removed]"
    }
   },
   "cell_type": "markdown",
   "id": "1cb74efe",
   "metadata": {},
   "source": [
    "Mean is taken to be a vector of ones and covariance matrix comprises the product of linear and square exponential kernels plus small white noise. i.e. ![covariance.png](attachment:covariance.png)"
   ]
  },
  {
   "cell_type": "markdown",
   "id": "1d1922eb",
   "metadata": {},
   "source": [
    "To obtain this true covariance matrix, we do the following:\n",
    "1. Create a grid of inputs s from 1 to 2.\n",
    "2. Initialize a covariance matrix $\\Sigma$ with the appropriate dimensions (100x100 in this case).\n",
    "3. Fill in the matrix with the covariance function provided.\n",
    "4. Add white noise to the diagonal."
   ]
  },
  {
   "cell_type": "code",
   "execution_count": 2,
   "id": "da3ec172",
   "metadata": {},
   "outputs": [],
   "source": [
    "mu = np.ones(100)\n",
    "# Step 1\n",
    "s = np.linspace(1, 2, 100)\n",
    "# Step 2\n",
    "cov = np.zeros((100, 100))\n",
    "\n",
    "# Step 3\n",
    "for i in range(100):\n",
    "    for j in range(100):\n",
    "        cov[i, j] = s[i] * s[j] * np.exp(-0.5* ((s[i] - s[j])**2)/ 0.09)\n",
    "\n",
    "# Step 4\n",
    "cov += np.eye(100) * 0.001"
   ]
  },
  {
   "cell_type": "code",
   "execution_count": 3,
   "id": "29e458f0",
   "metadata": {},
   "outputs": [
    {
     "data": {
      "text/plain": [
       "array([[1.001     , 1.00952861, 1.01789149, ..., 0.00955815, 0.00860162,\n",
       "        0.00773184],\n",
       "       [1.00952861, 1.02130405, 1.02992313, ..., 0.01077085, 0.00970395,\n",
       "        0.00873261],\n",
       "       [1.01789149, 1.02992313, 1.04181216, ..., 0.01212246, 0.01093406,\n",
       "        0.00985075],\n",
       "       ...,\n",
       "       [0.00955815, 0.01077085, 0.01212246, ..., 3.92060004, 3.93736553,\n",
       "        3.95062837],\n",
       "       [0.00860162, 0.00970395, 0.01093406, ..., 3.93736553, 3.96069799,\n",
       "        3.97754273],\n",
       "       [0.00773184, 0.00873261, 0.00985075, ..., 3.95062837, 3.97754273,\n",
       "        4.001     ]])"
      ]
     },
     "execution_count": 3,
     "metadata": {},
     "output_type": "execute_result"
    }
   ],
   "source": [
    "cov"
   ]
  },
  {
   "cell_type": "code",
   "execution_count": 4,
   "id": "17528604",
   "metadata": {},
   "outputs": [],
   "source": [
    "# define necessary functions\n",
    "def multivariate_gaussian(x, mu, cov):\n",
    "    part1 = 1 / ( ((2* np.pi)**(len(mu)/2)) * (np.linalg.det(cov)**(1/2)) )\n",
    "    part2 = (-1/2) * ((x-mu).dot(np.linalg.inv(cov))).dot((x-mu))\n",
    "    return float(part1 * np.exp(part2))\n",
    "\n",
    "def log_gauss(x, mu, cov):\n",
    "    scale = np.linalg.cholesky(cov)\n",
    "    v = jax.lax.linalg.triangular_solve(\n",
    "      scale, x - mu, left_side=True, lower=True\n",
    "    )\n",
    "    return -0.5 * np.sum(v * v)\n",
    "\n",
    "def grad_log_gauss(x,mu,cov):\n",
    "    scale = np.linalg.cholesky(cov)\n",
    "    v = jax.lax.linalg.triangular_solve(\n",
    "      scale, x - mu, left_side=True, lower=True\n",
    "    )\n",
    "    return - jax.lax.linalg.triangular_solve(\n",
    "      np.transpose(scale), v, left_side=True, lower=False\n",
    "    )"
   ]
  },
  {
   "cell_type": "markdown",
   "id": "8dd011c1",
   "metadata": {},
   "source": [
    "# Fisher MALA algorithm "
   ]
  },
  {
   "cell_type": "markdown",
   "id": "a6f1e748",
   "metadata": {},
   "source": [
    "## step 1. simple MALA for initialisation"
   ]
  },
  {
   "cell_type": "code",
   "execution_count": 5,
   "id": "b121bab2",
   "metadata": {},
   "outputs": [],
   "source": [
    "# initialisation \n",
    "lam = 10 # default value\n",
    "average_acc_rate = 0.574 # adapt step size toward achieving this acceptance rate. \n",
    "rho = 0.015 # default "
   ]
  },
  {
   "cell_type": "code",
   "execution_count": 6,
   "id": "cccdadf3",
   "metadata": {
    "scrolled": false
   },
   "outputs": [
    {
     "name": "stderr",
     "output_type": "stream",
     "text": [
      "C:\\Users\\kaixi\\AppData\\Local\\Temp\\ipykernel_3872\\2537505777.py:33: RuntimeWarning: overflow encountered in exp\n",
      "  acc_rate = min(1, np.exp(log_acc_rate))\n"
     ]
    },
    {
     "name": "stdout",
     "output_type": "stream",
     "text": [
      "Final sample in first 500 iterations:[-1.19742811e-01 -2.31670484e-01 -2.48064771e-01 -2.08236516e-01\n",
      " -2.46360987e-01 -2.22062916e-01 -2.18360066e-01 -2.46645540e-01\n",
      " -2.65121460e-01 -3.14131498e-01 -3.17474455e-01 -2.66847372e-01\n",
      " -2.83939302e-01 -2.67544925e-01 -2.11200640e-01 -2.64810592e-01\n",
      " -2.42715359e-01 -2.02975065e-01 -1.98775381e-01 -2.20049381e-01\n",
      " -1.91040441e-01 -1.60521209e-01 -1.75286561e-01 -1.53526038e-01\n",
      " -1.01900674e-01 -1.02826864e-01 -6.52260035e-02 -1.08450994e-01\n",
      " -7.90472329e-02 -4.83104959e-02 -1.99842062e-02 -5.11701517e-02\n",
      " -2.23177765e-03  4.60407324e-03  2.58760042e-02  1.88401877e-03\n",
      " -1.27545493e-02  2.06638966e-02 -3.20747495e-06 -6.17929175e-03\n",
      "  8.36563110e-03 -1.17304930e-02 -1.89203490e-02 -1.32534076e-02\n",
      "  1.25341229e-02  3.85689512e-02  6.86636847e-03 -2.04036832e-02\n",
      "  3.10859662e-02 -3.71144824e-02  9.50708985e-04 -5.03487326e-03\n",
      "  2.25685686e-02  5.81083260e-02  5.34931719e-02  6.20138198e-02\n",
      "  2.57222410e-02  9.34240595e-02  9.76162776e-03  1.16895244e-01\n",
      "  1.17319517e-01  1.68695569e-01  2.07264110e-01  2.26966724e-01\n",
      "  2.00817436e-01  2.09282681e-01  2.10029453e-01  2.28290543e-01\n",
      "  2.38602981e-01  2.13373810e-01  2.37535954e-01  2.44084403e-01\n",
      "  3.03098798e-01  3.86532307e-01  3.16256940e-01  2.97863811e-01\n",
      "  3.55032712e-01  3.38688999e-01  3.52482766e-01  3.37803811e-01\n",
      "  2.78426498e-01  3.35298866e-01  3.49407732e-01  2.90982485e-01\n",
      "  3.81318212e-01  2.85674214e-01  3.27968180e-01  3.03038090e-01\n",
      "  3.31584722e-01  3.00281763e-01  2.72010744e-01  2.36248061e-01\n",
      "  2.59271562e-01  1.73464566e-01  1.73985526e-01  1.60953745e-01\n",
      "  8.52903575e-02  5.65070100e-02  7.65480697e-02  8.06532651e-02]\n",
      "Final adapted step size in first 500 iterations:0.0006804457560590676\n"
     ]
    }
   ],
   "source": [
    "rng = np.random.default_rng(36)\n",
    "# number of iteration\n",
    "N = 500\n",
    "\n",
    "# initialise step size which is sigma^2 in paper\n",
    "# 0.002 seems reasonable from trials\n",
    "step_size = 0.002\n",
    "\n",
    "acceptance_rate_collection =  []\n",
    "#initial sample obtained by drawing from standard normal as stated\n",
    "\n",
    "x = rng.normal(0,1,100) # initial value\n",
    "\n",
    "# 500 iterations. \n",
    "for _ in range(N):\n",
    "    \n",
    "    # obtain x' through the formula\n",
    "    y = x + (step_size/2) * grad_log_gauss(x, mu, cov) + np.sqrt(step_size) * rng.normal(0,1,len(mu))\n",
    "    \n",
    "    # Metropolis\n",
    "    u = rng.uniform(0, 1)\n",
    "    \n",
    "    log_acc_rate = log_gauss(y, mu, cov) + log_gauss(x, y+step_size/2 *grad_log_gauss(y,mu,cov), step_size * np.identity(len(mu))) - \\\n",
    "            (log_gauss(x, mu, cov) + log_gauss(y, x + step_size/2 *grad_log_gauss(x,mu,cov) , step_size * np.identity(len(mu))))\n",
    "    # if u < acceptance rate, we accept the sample \n",
    "    if np.log(u) < log_acc_rate:\n",
    "        x = y\n",
    "        \n",
    "    else:\n",
    "        x = x\n",
    "        \n",
    "    # adapt the step size toward 0.574\n",
    "    acc_rate = min(1, np.exp(log_acc_rate))\n",
    "    acceptance_rate_collection.append(acc_rate)\n",
    "    # Step size adaptation towards the optimal acceptance rate\n",
    "    step_size = step_size * (1+ rho * (acc_rate - average_acc_rate))\n",
    "    \n",
    "    \n",
    "print(f'Final sample in first 500 iterations:{x}')\n",
    "print(f'Final adapted step size in first 500 iterations:{step_size}')"
   ]
  },
  {
   "cell_type": "code",
   "execution_count": 7,
   "id": "4af9c555",
   "metadata": {},
   "outputs": [
    {
     "name": "stdout",
     "output_type": "stream",
     "text": [
      "average acceptance rate:0.43157955538862974\n"
     ]
    }
   ],
   "source": [
    "# This can be used as a metric to choose a good initial step size \n",
    "print(f'average acceptance rate:{np.mean(acceptance_rate_collection)}')"
   ]
  },
  {
   "cell_type": "markdown",
   "id": "bb15efc2",
   "metadata": {},
   "source": [
    "Overflow does not matter as it is dealt with by min function."
   ]
  },
  {
   "cell_type": "markdown",
   "id": "13bd20bf",
   "metadata": {},
   "source": [
    "## step 2. Fisher MALA"
   ]
  },
  {
   "cell_type": "code",
   "execution_count": 8,
   "id": "45f8935d",
   "metadata": {},
   "outputs": [],
   "source": [
    "# initialisation\n",
    "N = int(1.95 * 10**4)\n",
    "step_size_R = step_size # adapted step size from final iteration above. place holder for normalised step size.\n",
    "R = np.identity(len(mu)) # initialise the square root matrix with identity matrix.\n",
    "\n",
    "# define function h as stated in proposition 1. \n",
    "def h(z,v, step_size, R, mu, cov):\n",
    "    return (1/2) * (z- v- (step_size/4)* (R @ (R.T)).dot(grad_log_gauss(v, mu, cov))).dot(grad_log_gauss(v, mu, cov))"
   ]
  },
  {
   "cell_type": "code",
   "execution_count": 9,
   "id": "40baa7f0",
   "metadata": {},
   "outputs": [],
   "source": [
    "acc_rate_collection = []\n",
    "\n",
    "normalised_preconditioner_fisher = []\n",
    "\n",
    "for n in range(1,N+1):\n",
    "    \n",
    "    # append normalised matrix to a list for plotting Frobenius norm later \n",
    "    normalised_preconditioner_fisher.append(R@R.T/(1/len(mu) * np.trace(R@R.T)))\n",
    "    y = x + step_size_R/2 * R.dot(R.T.dot(grad_log_gauss(x, mu, cov))) + np.sqrt(step_size_R) * R.dot(rng.normal(0,1,len(mu)))\n",
    "    \n",
    "    # using proposition 1 to compute acceptance rate, mistake for using step_size_R as step size\n",
    "    acc_rate = min(1, np.exp(log_gauss(y, mu, cov) + h(x, y, step_size_R, R, mu, cov) -\\\n",
    "                     log_gauss(x, mu, cov) - h(y, x, step_size_R, R, mu, cov)))\n",
    "    \n",
    "    # collect acceptance rate\n",
    "    acc_rate_collection.append(acc_rate)\n",
    "    \n",
    "    # compute adaptation signal for updating R later\n",
    "    s = np.sqrt(acc_rate) * (grad_log_gauss(y, mu, cov) - grad_log_gauss(x, mu, cov))\n",
    "    \n",
    "    # use s to adapt R based on proposition 4\n",
    "    if n == 1:\n",
    "        r1 = 1/(1+ np.sqrt(lam/(lam + np.dot(s,s))))\n",
    "        R = (1/ np.sqrt(lam))* (R - r1 * (np.outer(s,s)/(lam + np.dot(s,s))))\n",
    "    else:\n",
    "        phi = (R.T).dot(s)\n",
    "        r = 1/(1+ np.sqrt(1/ (1+np.dot(phi,phi))))\n",
    "        R = R - r * np.outer((R.dot(phi)),phi)/(1+ np.dot(phi,phi))\n",
    "       \n",
    "    # adapt step size using the formula. mistake here in 1st version\n",
    "    # let the step size adapt as before in Simple MALA\n",
    "    step_size = step_size * (1+ rho * (acc_rate - average_acc_rate))\n",
    "    \n",
    "    # normalise the step size for the proposal in next iteration.\n",
    "    step_size_R = step_size / ((1/len(mu)) * np.trace(R @ (R.T))) \n",
    "    \n",
    "    # Metropolis step - accept/ reject y  with probability acc_rate\n",
    "    u = rng.uniform(0, 1)\n",
    "    \n",
    "    if u < acc_rate:\n",
    "        x = y\n",
    "        \n",
    "    else:\n",
    "        x = x\n",
    "    "
   ]
  },
  {
   "cell_type": "code",
   "execution_count": 10,
   "id": "b83a86d2",
   "metadata": {},
   "outputs": [
    {
     "name": "stdout",
     "output_type": "stream",
     "text": [
      "Final sample after burn-in iterations:[ 0.00625849  0.0673275  -0.02647042 -0.01997983 -0.02518606 -0.08990955\n",
      " -0.13121223 -0.18591464 -0.18699789 -0.16957033 -0.26586664 -0.2511537\n",
      " -0.2776611  -0.3106351  -0.36079526 -0.40408587 -0.3667847  -0.47594905\n",
      " -0.45334637 -0.44630027 -0.5313171  -0.56824815 -0.5418966  -0.62858653\n",
      " -0.60181904 -0.6394042  -0.6753479  -0.7275422  -0.7372437  -0.7153219\n",
      " -0.7330774  -0.7643013  -0.7855427  -0.8570383  -0.7630193  -0.84602606\n",
      " -0.8232756  -0.85325    -0.8066581  -0.84998566 -0.7879816  -0.7892932\n",
      " -0.8938339  -0.84948325 -0.8486768  -0.8059064  -0.7138417  -0.7721299\n",
      " -0.7065418  -0.71489346 -0.6593913  -0.66885656 -0.5869436  -0.6049241\n",
      " -0.5363872  -0.5175483  -0.53019965 -0.41092032 -0.40475202 -0.3812775\n",
      " -0.2957362  -0.2243242  -0.14012793 -0.11136156 -0.08963904 -0.08499536\n",
      "  0.00845423  0.07360226  0.07949391  0.1639812   0.11742437  0.2544596\n",
      "  0.31624892  0.3133977   0.34829378  0.36811826  0.39869958  0.42957753\n",
      "  0.4630361   0.47202802  0.45840335  0.58324516  0.5567124   0.62388337\n",
      "  0.50766885  0.6397436   0.6064087   0.6313529   0.6157086   0.64954525\n",
      "  0.6393955   0.65494657  0.6293557   0.6455179   0.6110589   0.57910067\n",
      "  0.57511264  0.5920892   0.57784694  0.56246406]\n",
      "Final step size after burn-in iterations:1.4647553920868563\n",
      "Final adapted normalised step size after burn-in iterations:4414.173122230316\n",
      "Average acceptance rate:0.6011318401758636\n",
      "Adapted square root matrix:[[ 3.81109567e-03  3.27546290e-03  3.19696874e-03 ...  1.22382229e-04\n",
      "   1.55354408e-04 -4.45423578e-05]\n",
      " [ 3.36718062e-03  3.57743656e-03  3.14542696e-03 ...  1.38703573e-04\n",
      "   1.49660017e-04 -8.59779722e-05]\n",
      " [ 3.25470876e-03  3.13433416e-03  3.44282727e-03 ...  1.32849677e-04\n",
      "   1.21659778e-04 -4.66932304e-05]\n",
      " ...\n",
      " [-2.35657244e-05  3.65814906e-06 -6.63073087e-05 ...  6.75761033e-03\n",
      "   6.81457902e-03  6.93066951e-03]\n",
      " [-5.01295816e-05 -5.41194487e-06 -5.69877407e-05 ...  6.60865287e-03\n",
      "   7.45692848e-03  7.24161812e-03]\n",
      " [-5.41735729e-05  1.41875318e-05 -6.95647505e-05 ...  6.82055895e-03\n",
      "   7.38286630e-03  7.94111160e-03]]\n"
     ]
    }
   ],
   "source": [
    "print(f'Final sample after burn-in iterations:{x}')\n",
    "print(f'Final step size after burn-in iterations:{step_size}')\n",
    "print(f'Final adapted normalised step size after burn-in iterations:{step_size_R}')\n",
    "print(f'Average acceptance rate:{np.mean(acc_rate_collection)}')\n",
    "print(f'Adapted square root matrix:{R}')"
   ]
  },
  {
   "cell_type": "code",
   "execution_count": 11,
   "id": "6b00bd05",
   "metadata": {
    "scrolled": true
   },
   "outputs": [
    {
     "name": "stdout",
     "output_type": "stream",
     "text": [
      "normalised preconditioning matrix:[[0.43568869 0.43916499 0.4427476  ... 0.002415   0.00223826 0.00200182]\n",
      " [0.43916499 0.44404566 0.4477372  ... 0.00313752 0.00291454 0.0026279 ]\n",
      " [0.4427476  0.4477372  0.45284686 ... 0.00359685 0.00332514 0.00300032]\n",
      " ...\n",
      " [0.002415   0.00313752 0.00359685 ... 1.68409235 1.69181419 1.69771459]\n",
      " [0.00223826 0.00291454 0.00332514 ... 1.69181419 1.70235289 1.70979414]\n",
      " [0.00200182 0.0026279  0.00300032 ... 1.69771459 1.70979414 1.72009307]]\n"
     ]
    }
   ],
   "source": [
    "normalised_fisher_preconditioner = (R@R.T)/(1/len(mu) * np.trace(R@R.T))\n",
    "print(f'normalised preconditioning matrix:{normalised_fisher_preconditioner}')"
   ]
  },
  {
   "cell_type": "code",
   "execution_count": 12,
   "id": "266d4060",
   "metadata": {
    "scrolled": true
   },
   "outputs": [
    {
     "name": "stdout",
     "output_type": "stream",
     "text": [
      "normalised true covariance matrix:[[0.42850719 0.43215811 0.43573808 ... 0.00409164 0.00368217 0.00330984]\n",
      " [0.43215811 0.43719893 0.44088857 ... 0.00461078 0.00415406 0.00373825]\n",
      " [0.43573808 0.44088857 0.44597802 ... 0.00518937 0.00468064 0.0042169 ]\n",
      " ...\n",
      " [0.00409164 0.00461078 0.00518937 ... 1.67832696 1.68550392 1.69118146]\n",
      " [0.00368217 0.00415406 0.00468064 ... 1.68550392 1.69549206 1.70270294]\n",
      " [0.00330984 0.00373825 0.0042169  ... 1.69118146 1.70270294 1.71274451]]\n"
     ]
    }
   ],
   "source": [
    "print(f'normalised true covariance matrix:{cov/(1/len(mu) * np.trace(cov))}')"
   ]
  },
  {
   "cell_type": "markdown",
   "id": "455d6e5a",
   "metadata": {},
   "source": [
    "# AdaMALA\n",
    "## step1. 500 simple MALA initialisation to adapt step size."
   ]
  },
  {
   "cell_type": "code",
   "execution_count": 13,
   "id": "b52974f9",
   "metadata": {},
   "outputs": [
    {
     "name": "stderr",
     "output_type": "stream",
     "text": [
      "C:\\Users\\kaixi\\AppData\\Local\\Temp\\ipykernel_3872\\952521792.py:35: RuntimeWarning: overflow encountered in exp\n",
      "  acc_rate = min(1, np.exp(log_acc_rate))\n"
     ]
    },
    {
     "name": "stdout",
     "output_type": "stream",
     "text": [
      "Final sample in first 500 iterations:[-1.19742811e-01 -2.31670484e-01 -2.48064771e-01 -2.08236516e-01\n",
      " -2.46360987e-01 -2.22062916e-01 -2.18360066e-01 -2.46645540e-01\n",
      " -2.65121460e-01 -3.14131498e-01 -3.17474455e-01 -2.66847372e-01\n",
      " -2.83939302e-01 -2.67544925e-01 -2.11200640e-01 -2.64810592e-01\n",
      " -2.42715359e-01 -2.02975065e-01 -1.98775381e-01 -2.20049381e-01\n",
      " -1.91040441e-01 -1.60521209e-01 -1.75286561e-01 -1.53526038e-01\n",
      " -1.01900674e-01 -1.02826864e-01 -6.52260035e-02 -1.08450994e-01\n",
      " -7.90472329e-02 -4.83104959e-02 -1.99842062e-02 -5.11701517e-02\n",
      " -2.23177765e-03  4.60407324e-03  2.58760042e-02  1.88401877e-03\n",
      " -1.27545493e-02  2.06638966e-02 -3.20747495e-06 -6.17929175e-03\n",
      "  8.36563110e-03 -1.17304930e-02 -1.89203490e-02 -1.32534076e-02\n",
      "  1.25341229e-02  3.85689512e-02  6.86636847e-03 -2.04036832e-02\n",
      "  3.10859662e-02 -3.71144824e-02  9.50708985e-04 -5.03487326e-03\n",
      "  2.25685686e-02  5.81083260e-02  5.34931719e-02  6.20138198e-02\n",
      "  2.57222410e-02  9.34240595e-02  9.76162776e-03  1.16895244e-01\n",
      "  1.17319517e-01  1.68695569e-01  2.07264110e-01  2.26966724e-01\n",
      "  2.00817436e-01  2.09282681e-01  2.10029453e-01  2.28290543e-01\n",
      "  2.38602981e-01  2.13373810e-01  2.37535954e-01  2.44084403e-01\n",
      "  3.03098798e-01  3.86532307e-01  3.16256940e-01  2.97863811e-01\n",
      "  3.55032712e-01  3.38688999e-01  3.52482766e-01  3.37803811e-01\n",
      "  2.78426498e-01  3.35298866e-01  3.49407732e-01  2.90982485e-01\n",
      "  3.81318212e-01  2.85674214e-01  3.27968180e-01  3.03038090e-01\n",
      "  3.31584722e-01  3.00281763e-01  2.72010744e-01  2.36248061e-01\n",
      "  2.59271562e-01  1.73464566e-01  1.73985526e-01  1.60953745e-01\n",
      "  8.52903575e-02  5.65070100e-02  7.65480697e-02  8.06532651e-02]\n",
      "Final adapted step size in first 500 iterations:0.0006804457560590676\n"
     ]
    }
   ],
   "source": [
    "rng = np.random.default_rng(36)\n",
    "# number of iteration\n",
    "N = 500\n",
    "\n",
    "# initialise step size which is sigma^2 in paper\n",
    "# 0.002 seems reasonable from trials\n",
    "step_size = 0.002\n",
    "\n",
    "acceptance_rate_collection =  []\n",
    "\n",
    "#initial sample obtained by drawing from standard normal as stated\n",
    "x = rng.normal(0,1,100) # initial value\n",
    "\n",
    "# 500 iterations. \n",
    "for _ in range(N):\n",
    "    \n",
    "    # obtain x' through the formula\n",
    "    y = x + (step_size/2) * grad_log_gauss(x, mu, cov) + np.sqrt(step_size) * rng.normal(0,1,len(mu))\n",
    "    \n",
    "    # Metropolis\n",
    "    u = rng.uniform(0, 1)\n",
    "    \n",
    "    # mistake in sign in first version. \n",
    "    log_acc_rate = log_gauss(y, mu, cov) + log_gauss(x, y+step_size/2 *grad_log_gauss(y,mu,cov), step_size * np.identity(len(mu))) - \\\n",
    "            (log_gauss(x, mu, cov) + log_gauss(y, x + step_size/2 *grad_log_gauss(x,mu,cov) , step_size * np.identity(len(mu))))\n",
    "\n",
    "    # if u < acceptance rate, we accept the sample \n",
    "    if np.log(u) < log_acc_rate:\n",
    "        x = y\n",
    "        \n",
    "    else:\n",
    "        x = x\n",
    "        \n",
    "    # adapt the step size toward 0.574\n",
    "    acc_rate = min(1, np.exp(log_acc_rate))\n",
    "    acceptance_rate_collection.append(acc_rate)\n",
    "    # Step size adaptation towards the optimal acceptance rate\n",
    "    step_size = step_size * (1+ rho * (acc_rate - average_acc_rate))\n",
    "    \n",
    "    \n",
    "print(f'Final sample in first 500 iterations:{x}')\n",
    "print(f'Final adapted step size in first 500 iterations:{step_size}')"
   ]
  },
  {
   "cell_type": "markdown",
   "id": "a3ec2163",
   "metadata": {},
   "source": [
    "## Another 500 iterations to adapt covariance matrix "
   ]
  },
  {
   "cell_type": "code",
   "execution_count": 14,
   "id": "35da41a1",
   "metadata": {
    "scrolled": true
   },
   "outputs": [
    {
     "name": "stdout",
     "output_type": "stream",
     "text": [
      "Final empirical covariance after 500 iterations:[[ 2.17493346e-02  9.40385525e-04  1.11683029e-03 ...  4.54856849e-04\n",
      "  -3.44312685e-04 -4.60885664e-05]\n",
      " [ 9.40385525e-04  2.22583736e-02  1.78442136e-03 ...  7.64435970e-04\n",
      "   1.79535216e-04  1.86165769e-04]\n",
      " [ 1.11683029e-03  1.78442136e-03  2.32277352e-02 ...  1.04953055e-03\n",
      "   3.21947131e-05  2.94219265e-05]\n",
      " ...\n",
      " [ 4.54856849e-04  7.64435970e-04  1.04953055e-03 ...  2.18053517e-02\n",
      "   1.10873154e-03  1.04345809e-03]\n",
      " [-3.44312685e-04  1.79535216e-04  3.21947131e-05 ...  1.10873154e-03\n",
      "   2.30808042e-02  1.67370979e-03]\n",
      " [-4.60885664e-05  1.86165769e-04  2.94219265e-05 ...  1.04345809e-03\n",
      "   1.67370979e-03  2.23237832e-02]]\n",
      "Final empirical mean after 500 iterations:[-0.12178797 -0.11692251 -0.12140762 -0.12341125 -0.11482792 -0.12211864\n",
      " -0.11808071 -0.11555928 -0.11918851 -0.11933833 -0.11935996 -0.113901\n",
      " -0.11305033 -0.11339852 -0.11579367 -0.1083969  -0.1125748  -0.10677021\n",
      " -0.11320142 -0.10849823 -0.09905489 -0.11133158 -0.09983034 -0.11407478\n",
      " -0.10527491 -0.10735264 -0.10542628 -0.10622302 -0.10628897 -0.10753384\n",
      " -0.09967767 -0.09293001 -0.0954238  -0.09925743 -0.09691914 -0.09181515\n",
      " -0.08928107 -0.07983939 -0.08647663 -0.08348291 -0.06861446 -0.06589157\n",
      " -0.0671564  -0.05253674 -0.04556984 -0.04251156 -0.0318676  -0.01583329\n",
      " -0.01439041 -0.00756368  0.00086819  0.02163986  0.02021263  0.03706072\n",
      "  0.04634406  0.06616916  0.07597676  0.09054386  0.09894773  0.12353053\n",
      "  0.1298196   0.15122022  0.17202696  0.17554505  0.1906653   0.21012658\n",
      "  0.2186597   0.23663038  0.251667    0.26078802  0.27444974  0.2801013\n",
      "  0.30207643  0.31498435  0.3215183   0.32543117  0.34953836  0.3504756\n",
      "  0.35053027  0.35312125  0.36238694  0.36591628  0.36468643  0.35225117\n",
      "  0.3618193   0.35238332  0.3509234   0.34551483  0.33809045  0.32375476\n",
      "  0.31766805  0.30182052  0.27376485  0.2655973   0.23910293  0.22267528\n",
      "  0.20524688  0.18201011  0.15045324  0.13820663]\n",
      "Final adapted step size after first 1000 iterations:0.0006260879071148769\n",
      "Average acceptance rate:0.5637972051817923\n"
     ]
    }
   ],
   "source": [
    "# initialisation mu with final sample from first 500 iterations.\n",
    "mean = x\n",
    "\n",
    "# number of iteration\n",
    "N = 500\n",
    "\n",
    "normalised_preconditioner_ada = []\n",
    "acc_rate_collection = []\n",
    "\n",
    "# 500 iterations. \n",
    "for n in range(2, N+2):\n",
    "    \n",
    "    # obtain x' through the formula\n",
    "    y = x + (step_size/2 * grad_log_gauss(x, mu, cov) + np.sqrt(step_size) * rng.normal(0,1,len(mu)))\n",
    "    \n",
    "    \n",
    "    # Metropolis\n",
    "    u = rng.uniform(0, 1)\n",
    "    \n",
    "    # mistake in sign in first version. \n",
    "    log_acc_rate = log_gauss(y, mu, cov) + log_gauss(x, y+step_size/2 *grad_log_gauss(y,mu,cov), step_size * np.identity(len(mu))) - \\\n",
    "            (log_gauss(x, mu, cov) + log_gauss(y, x + step_size/2 *grad_log_gauss(x,mu,cov) , step_size * np.identity(len(mu))))\n",
    "\n",
    "    # if u < acceptance rate, we accept the sample \n",
    "    if np.log(u) < log_acc_rate:\n",
    "        x = y\n",
    "        \n",
    "    else:\n",
    "        x = x\n",
    "        \n",
    "        \n",
    "    if n == 2:\n",
    "        Sigma = (1/n)* np.outer((x-mean),(x-mean)) + lam * np.identity(len(mu))\n",
    "    \n",
    "    else:\n",
    "        Sigma = ((n-2)/(n-1)) * Sigma + 1/n * np.outer((x-mean), (x-mean))\n",
    "        \n",
    "    # append normalised matrix for plot of Frobenius norm \n",
    "    normalised_preconditioner_ada.append(Sigma/(1/len(mu) * np.trace(Sigma)))\n",
    "        \n",
    "    mean = ((n-1)/n) * mean + 1/n * x\n",
    "        \n",
    "    # adapt the step size toward 0.574\n",
    "    acc_rate = min(1, np.exp(log_acc_rate))\n",
    "    acc_rate_collection.append(acc_rate)\n",
    "\n",
    "\n",
    "    # Step size adaptation towards the optimal acceptance rate\n",
    "    step_size = step_size * (1+ rho * (acc_rate - average_acc_rate))\n",
    "\n",
    "print(f'Final empirical covariance after 500 iterations:{Sigma}')\n",
    "print(f'Final empirical mean after 500 iterations:{mean}')\n",
    "print(f'Final adapted step size after first 1000 iterations:{step_size}')\n",
    "print(f'Average acceptance rate:{np.mean(acc_rate_collection)}')"
   ]
  },
  {
   "cell_type": "markdown",
   "id": "d1b00428",
   "metadata": {},
   "source": [
    "## For remaining burn-in iterations adapt covariance using proposal in (7)."
   ]
  },
  {
   "cell_type": "code",
   "execution_count": 15,
   "id": "d0146b4e",
   "metadata": {},
   "outputs": [],
   "source": [
    "# initialisation\n",
    "N = int(1.9 * 10**4)\n",
    "\n",
    "step_size_R = step_size # adapted step size from final iteration above. place holder for normalised step size.\n",
    "\n",
    "acc_rate_collection = []\n",
    "\n",
    "mean = mean # final sample from above\n",
    "Sigma = Sigma # from above. \n",
    "\n",
    "# for n in range(3,N+3):\n",
    "for n in range(502,N+502):\n",
    "    R = np.linalg.cholesky(Sigma)\n",
    "\n",
    "    y = x + step_size_R/2 * Sigma.dot(grad_log_gauss(x, mu, cov)) + np.sqrt(step_size_R) * R.dot(rng.normal(0,1,len(mu)))\n",
    "    #print(f'new sample:{y}')\n",
    "\n",
    "    \n",
    "    # using proposition 1 to compute acceptance rate, mistake for using step_size_R as step size\n",
    "    acc_rate = min(1, np.exp(log_gauss(y, mu, cov) + h(x, y, step_size_R, R, mu, cov) -\\\n",
    "                     log_gauss(x, mu, cov) - h(y, x, step_size_R, R, mu, cov)))\n",
    "    \n",
    "    # collect acceptance rate\n",
    "    acc_rate_collection.append(acc_rate)\n",
    "    # Metropolis step - accept/ reject y  with probability acc_rate\n",
    "    u = rng.uniform(0, 1)\n",
    "    \n",
    "    if u < acc_rate:\n",
    "        x = y\n",
    "        \n",
    "    else:\n",
    "        x = x\n",
    "        \n",
    "\n",
    "    Sigma = ((n-2)/(n-1)) * Sigma + 1/n * np.outer((x-mean), (x-mean))\n",
    "    \n",
    "    mean = (n-1)/n * mean + 1/n * x\n",
    "    \n",
    "    #print(f'empirical covariance update:{Sigma}')\n",
    "    \n",
    "    # appending the normalised preconditioner for later plot of Frobenius norm\n",
    "    normalised_preconditioner_ada.append(Sigma/(1/len(mu) * np.trace(Sigma)))\n",
    "\n",
    "\n",
    "    # let the step size adapt as before in Simple MALA\n",
    "    step_size = step_size * (1+ rho * (acc_rate - average_acc_rate))\n",
    "    \n",
    "    # normalise the step size for the proposal in next iteration.\n",
    "    step_size_R = step_size / ((1/len(mu)) * np.trace(Sigma)) "
   ]
  },
  {
   "cell_type": "code",
   "execution_count": 16,
   "id": "51cd71c9",
   "metadata": {},
   "outputs": [
    {
     "name": "stdout",
     "output_type": "stream",
     "text": [
      "Final empirical covariance after burn-in iterations:\n",
      "[[0.86344272 0.86882763 0.87498057 ... 0.16540452 0.17227107 0.17673675]\n",
      " [0.86882763 0.87814775 0.88365385 ... 0.16334068 0.17009299 0.17450277]\n",
      " [0.87498057 0.88365385 0.89305987 ... 0.16377765 0.17051648 0.17480364]\n",
      " ...\n",
      " [0.16540452 0.16334068 0.16377765 ... 2.35911991 2.36651085 2.37310481]\n",
      " [0.17227107 0.17009299 0.17051648 ... 2.36651085 2.37971025 2.38782446]\n",
      " [0.17673675 0.17450277 0.17480364 ... 2.37310481 2.38782446 2.40219452]]\n",
      "Final empirical mean after burn-in iterations:\n",
      "[0.67906183 0.6731671  0.66741794 0.6609146  0.6556054  0.6506437\n",
      " 0.64352924 0.6381399  0.63286316 0.62610996 0.6225918  0.6169791\n",
      " 0.6125529  0.6085676  0.60280246 0.598573   0.5951013  0.5903095\n",
      " 0.5878063  0.58393466 0.5810131  0.57908654 0.575153   0.5721157\n",
      " 0.5712676  0.56927526 0.5670347  0.56730765 0.56464565 0.56539863\n",
      " 0.5667517  0.56595385 0.56722355 0.56906414 0.569725   0.5708701\n",
      " 0.57491755 0.57808274 0.58074224 0.5847846  0.58900326 0.59362864\n",
      " 0.5975491  0.6038676  0.60921645 0.61455315 0.62170684 0.6268627\n",
      " 0.6357675  0.6443118  0.6500389  0.65753365 0.6660911  0.6739621\n",
      " 0.6823149  0.69081974 0.6988804  0.708034   0.7160196  0.72307146\n",
      " 0.73339117 0.7419636  0.7495986  0.75742275 0.7651558  0.7735033\n",
      " 0.7792895  0.78634536 0.79245996 0.7999424  0.80464697 0.8093669\n",
      " 0.8156492  0.82018423 0.8222826  0.8258781  0.82949513 0.83147925\n",
      " 0.8336516  0.83453107 0.8355946  0.83671856 0.8349434  0.83249277\n",
      " 0.83174014 0.83016306 0.8286382  0.8254065  0.82097614 0.8158182\n",
      " 0.81340855 0.80673367 0.80280346 0.7962694  0.79081583 0.7842033\n",
      " 0.77798414 0.7712775  0.7649918  0.7591124 ]\n",
      "Average acceptance rate:0.5992474417061864\n"
     ]
    }
   ],
   "source": [
    "print(f'Final empirical covariance after burn-in iterations:\\n{Sigma}')\n",
    "print(f'Final empirical mean after burn-in iterations:\\n{mean}')\n",
    "print(f'Average acceptance rate:{np.mean(acc_rate_collection)}')"
   ]
  },
  {
   "cell_type": "markdown",
   "id": "cebe07fe",
   "metadata": {},
   "source": [
    "Mean is not converging."
   ]
  },
  {
   "cell_type": "code",
   "execution_count": 17,
   "id": "c84df7ff",
   "metadata": {},
   "outputs": [
    {
     "name": "stdout",
     "output_type": "stream",
     "text": [
      "normalised adaMALA precondioner:[[0.56383442 0.5673508  0.57136872 ... 0.10801036 0.11249427 0.11541039]\n",
      " [0.5673508  0.57343691 0.57703243 ... 0.10666266 0.11107197 0.11395159]\n",
      " [0.57136872 0.57703243 0.58317463 ... 0.106948   0.11134851 0.11414806]\n",
      " ...\n",
      " [0.10801036 0.10666266 0.106948   ... 1.54052257 1.54534891 1.5496548 ]\n",
      " [0.11249427 0.11107197 0.11134851 ... 1.54534891 1.55396821 1.55926685]\n",
      " [0.11541039 0.11395159 0.11414806 ... 1.5496548  1.55926685 1.5686506 ]]\n"
     ]
    }
   ],
   "source": [
    "normalised_precondioner_ada = Sigma/(np.trace(Sigma)/len(mu))\n",
    "print(f'normalised adaMALA precondioner:{normalised_precondioner_ada}')"
   ]
  },
  {
   "cell_type": "markdown",
   "id": "ef8ef162",
   "metadata": {},
   "source": [
    "# Frobenius norm"
   ]
  },
  {
   "cell_type": "code",
   "execution_count": 20,
   "id": "bc9ab217",
   "metadata": {},
   "outputs": [],
   "source": [
    "normalised_cov = cov/(1/len(mu) * np.trace(cov))\n",
    "difference_ada = normalised_preconditioner_ada - normalised_cov\n",
    "difference_fisher = normalised_preconditioner_fisher - normalised_cov\n",
    "fro_norm_ada = []\n",
    "fro_norm_fisher = []\n",
    "for i in difference_ada:\n",
    "    fro_norm_ada.append(np.linalg.norm(i))\n",
    "    \n",
    "for j in difference_fisher:\n",
    "    fro_norm_fisher.append(np.linalg.norm(j))"
   ]
  },
  {
   "cell_type": "code",
   "execution_count": 21,
   "id": "ab34442d",
   "metadata": {},
   "outputs": [
    {
     "data": {
      "image/png": "[encoded data removed]",
      "text/plain": [
       "<Figure size 640x480 with 1 Axes>"
      ]
     },
     "metadata": {},
     "output_type": "display_data"
    }
   ],
   "source": [
    "iterations = np.arange(0, int(1.95 * 10**4))\n",
    "plt.plot(iterations, fro_norm_ada, label = 'Frobenius norm with adaMALA covariance', color = 'orange')\n",
    "plt.plot(iterations, fro_norm_fisher, label = 'Frobenius norm with Fisher covariance', color = 'green')\n",
    "plt.title('The Frobenius Norm vs iterations for FisherMALA and AdaMALA')\n",
    "plt.legend()\n",
    "plt.show()"
   ]
  },
  {
   "cell_type": "code",
   "execution_count": 22,
   "id": "fda7e1a2",
   "metadata": {},
   "outputs": [
    {
     "name": "stdout",
     "output_type": "stream",
     "text": [
      "Frobenius norm from AdaMALA converges to:6.095167550683608\n",
      "Frobenius norm from FisherMALA converges to:0.8282129441642547\n"
     ]
    }
   ],
   "source": [
    "print(f'Frobenius norm from AdaMALA converges to:{fro_norm_ada[-1]}')\n",
    "print(f'Frobenius norm from FisherMALA converges to:{fro_norm_fisher[-1]}')"
   ]
  },
  {
   "cell_type": "markdown",
   "id": "2d2f8a55",
   "metadata": {},
   "source": [
    "FisherMALA clearly learns much faster and achieve more accurate estimates of the optimal preconditioner compared to adaMALA. "
   ]
  },
  {
   "cell_type": "code",
   "execution_count": 23,
   "id": "9ea6cac8",
   "metadata": {},
   "outputs": [
    {
     "data": {
      "image/png": "[encoded data removed]",
      "text/plain": [
       "<Figure size 1000x500 with 2 Axes>"
      ]
     },
     "metadata": {},
     "output_type": "display_data"
    }
   ],
   "source": [
    "fig, axs = plt.subplots(nrows=1, ncols=2, figsize=(10, 5))\n",
    "\n",
    "# Plot the true covariance matrix on the first subplot\n",
    "axs[0].imshow(cov)\n",
    "axs[0].set_title('True Covariance')\n",
    "\n",
    "# Plot the estimated covariance matrix on the second subplot\n",
    "axs[1].imshow(R @ R.T)\n",
    "axs[1].set_title('FisherMALA')\n",
    "\n",
    "# Display the plots\n",
    "plt.show()"
   ]
  },
  {
   "cell_type": "code",
   "execution_count": null,
   "id": "b670300f",
   "metadata": {},
   "outputs": [],
   "source": []
  }
 ],
 "metadata": {
  "kernelspec": {
   "display_name": "Python 3 (ipykernel)",
   "language": "python",
   "name": "python3"
  },
  "language_info": {
   "codemirror_mode": {
    "name": "ipython",
    "version": 3
   },
   "file_extension": ".py",
   "mimetype": "text/x-python",
   "name": "python",
   "nbconvert_exporter": "python",
   "pygments_lexer": "ipython3",
   "version": "3.11.5"
  }
 },
 "nbformat": 4,
 "nbformat_minor": 5
}
