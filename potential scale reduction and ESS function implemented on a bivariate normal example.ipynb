{
 "cells": [
  {
   "cell_type": "code",
   "execution_count": 6,
   "id": "86303089",
   "metadata": {},
   "outputs": [],
   "source": [
    "import numpy as np\n",
    "import matplotlib.pyplot as plt"
   ]
  },
  {
   "cell_type": "markdown",
   "id": "472984dd",
   "metadata": {},
   "source": [
    "# Idea for creating split chains "
   ]
  },
  {
   "cell_type": "markdown",
   "id": "55d48c80",
   "metadata": {},
   "source": [
    "To assess convergence for each scalar quantity of interest, we evaluate both mixing and stationarity. A simple method involves splitting each chain into two halves and checking if the resulting half-sequences have mixed adequately. This approach tests both aspects: a good mixing is indicated if the all half-sequences are well mixed, and stationarity is checked by seeing if the first and second halves of each sequence go along the same distribution."
   ]
  },
  {
   "cell_type": "markdown",
   "id": "aecc7ba2",
   "metadata": {},
   "source": [
    "My code approach to generate splitted chains:\n",
    "\n",
    "1. I simulate a number of chains and store in an array of shape (number of chains, number of iterations, number of parameters required)\n",
    "\n",
    "2. After discarding the first half of iterations, my second half chains should have the shape of (number of chains, number of iteration//2, number of parameters)\n",
    "\n",
    "3. We then split each chain, so that each half chain to has length of number of iterations/4.\n",
    "\n",
    "4. In the end, we concatenate all the half chains to have an array of shape (2 x original number of chains, number of iterations/4, number of parameters) "
   ]
  },
  {
   "cell_type": "markdown",
   "id": "538f8278",
   "metadata": {},
   "source": [
    "For 50 iterations, the second half chains has 25 iterations, which is odd and we cannot split into 2 parts evenly for evaluation of R hat. We insert another if statements into the function to solve this problem.  \n",
    "Check if the length of the second half is odd, if this is true: \n",
    "\n",
    "1. Adjust the length by discarding the first element in the second half chains.\n",
    "2. Split the adjusted second half into two parts."
   ]
  },
  {
   "cell_type": "markdown",
   "id": "269734ef",
   "metadata": {},
   "source": [
    "To compute within-sequence variance, np.var(split_chains, axis=1, ddof=1) is used to compute the variance for each split chain and then takes the mean of these variances. This method is more concise and leverages NumPy's efficient vectorised operations."
   ]
  },
  {
   "cell_type": "markdown",
   "id": "12cdefd8",
   "metadata": {},
   "source": [
    "# Generate Table 6.1 with defined potential scale reduction function"
   ]
  },
  {
   "cell_type": "code",
   "execution_count": 9,
   "id": "4a1cde19",
   "metadata": {
    "scrolled": true
   },
   "outputs": [],
   "source": [
    "import numpy as np\n",
    "import pandas as pd\n",
    "import matplotlib.pyplot as plt\n",
    "\n",
    "# Parameters\n",
    "num_chains = 5\n",
    "num_iterations_list = [50, 500, 2000, 5000]\n",
    "num_parameters = 2 \n",
    "scale = 0.2\n",
    "initial_points = np.array([[0, 0],\n",
    "                           [-3, -3],\n",
    "                           [3, 3],\n",
    "                           [3, -3],\n",
    "                           [-3, 3]])\n",
    "# scaled covariance of proposal distribution\n",
    "proposal_cov = (scale ** 2) * np.eye(2)\n",
    "\n",
    "# Function to run Metropolis algorithm for multiple chains\n",
    "def metropolis(num_chains, num_iterations, num_parameters, initial_points, proposal_cov):\n",
    "    \"\"\"\n",
    "    Perform Metropolis algorithm for MCMC sampling.\n",
    "\n",
    "    This function runs multiple chains of the Metropolis algorithm to sample from a target distribution.\n",
    "    Each chain starts from a different initial point and runs for a specified number of iterations.\n",
    "\n",
    "    Parameters:\n",
    "    -----------\n",
    "    num_chains : int\n",
    "        The number of independent MCMC chains to run.\n",
    "    num_iterations : int\n",
    "        The number of iterations to run each chain.\n",
    "    initial_points : np.ndarray\n",
    "        An array of shape (num_chains, num_parameters) specifying the initial points for each chain.\n",
    "\n",
    "    Returns:\n",
    "    --------\n",
    "    chains : np.ndarray\n",
    "        An array of shape (num_chains, num_iterations, num_parameters) containing the samples generated \n",
    "        by the Metropolis algorithm.\n",
    "\n",
    "    \"\"\"\n",
    "    # set a seed for repeatable experiment\n",
    "    np.random.seed(42)\n",
    "    # placeholder for the chains\n",
    "    chains = np.zeros((num_chains, num_iterations, num_parameters))\n",
    "    # initialise the chains\n",
    "    chains[:, 0, :] = initial_points\n",
    "    \n",
    "    # simulate data along each chain\n",
    "    for chain in range(num_chains):\n",
    "        for t in range(1, num_iterations):\n",
    "            \n",
    "            # sample from the proposal distribution with mean at current state and scaled covariance\n",
    "            theta_proposal = np.random.multivariate_normal(chains[chain, t-1, :], proposal_cov)\n",
    "\n",
    "            # Calculate acceptance ratio\n",
    "            target_density_current = np.exp(-0.5 * np.dot(chains[chain, t-1, :], chains[chain, t-1, :]))\n",
    "            target_density_proposal = np.exp(-0.5 * np.dot(theta_proposal, theta_proposal))\n",
    "\n",
    "            acceptance_ratio = target_density_proposal / target_density_current\n",
    "\n",
    "            if np.random.rand() < min(1, acceptance_ratio):\n",
    "                chains[chain, t, :] = theta_proposal\n",
    "            else:\n",
    "                chains[chain, t, :] = chains[chain, t-1, :]\n",
    "\n",
    "    return chains\n",
    "\n",
    "def log_posterior(theta):\n",
    "\n",
    "    \"\"\"\n",
    "    Calculate the log-posterior of a bivariate standard normal distribution but excluded the addent -np.log(2 * np.pi)\n",
    "    as this term is not included in computation of results in table 11.1\n",
    "    \n",
    "    Parameters:\n",
    "    -----------\n",
    "    theta : np.ndarray\n",
    "        An array of shape (num_samples, num_parameters) containing the parameter values for which to compute the log-posterior.\n",
    "\n",
    "    Returns:\n",
    "    --------\n",
    "    log_posterior_values : np.ndarray\n",
    "        An array of shape (num_samples,) containing the log-posterior values for each set of parameter values in `theta`.\n",
    "    \"\"\"\n",
    "    \n",
    "    # Sums the squared values along the parameter axis\n",
    "    return  - 0.5 * np.sum(theta ** 2, axis=1)\n",
    "\n",
    "# potential scale reduction function\n",
    "def compute_R_hat(chains, num_iterations, num_parameters):\n",
    "    \"\"\"\n",
    "    Split each chain into two parts.\n",
    "    Compute the marginal posterior variance, \n",
    "    hence calculate R hat for each parameter of interest and log posterior for MCMC chains.\n",
    "\n",
    "    Parameters:\n",
    "    -----------\n",
    "    chains : np.ndarray\n",
    "        The simulated chains, shaped(num_chains, num_iterations, num_parameters).\n",
    "    num_iterations : int\n",
    "        The total number of iterations in each chain (length of each chain).\n",
    "\n",
    "    Returns:\n",
    "    --------\n",
    "    R_hat : np.ndarray\n",
    "        R-hat values for the parameters.\n",
    "    logp_R_hat : float\n",
    "        R-hat value for the log-posterior.\n",
    "    split_chains : np.ndarray\n",
    "        splitted each chain into 2 halve after discarding first half of each chain,\n",
    "        shaped(2*num_chains, num_iterations/4, num_parameters).\n",
    "    var_plus: np.ndarray\n",
    "        marginal posterior variance for each parameter of interest.\n",
    "    \n",
    "    \"\"\"\n",
    "    # discard warm-up iterations-first half of the simulation\n",
    "    second_half_chains = chains[:, num_iterations//2:, :]\n",
    "    \n",
    "    # if the length of chains is not even(odd). \n",
    "    if second_half_chains.shape[1] %2 != 0:\n",
    "        # returns a new array with first element of each chain deleted, which now has even length. \n",
    "        second_half_chains = np.delete(second_half_chains, 0, axis=1)\n",
    "        \n",
    "        # split each chain into 2 halves and concatenate them into an array with first dimension being num_chains*2\n",
    "        split_chains = np.concatenate([np.split(chain, 2) for chain in second_half_chains], axis=0)\n",
    "        \n",
    "        # the split chain for log posterior\n",
    "        # split each chain into 2 halves and log posterior evaluates each half of the chain, then join them up and concatenated \n",
    "        # into an array with first dimension being num_chains*2\n",
    "        logp_split_chains = np.concatenate([[log_posterior(np.split(chain, 2)[0])]+[log_posterior(np.split(chain, 2)[1])] \\\n",
    "                                    for chain in second_half_chains], axis=0)\n",
    "    else:\n",
    "        # split the chain into 2 halves\n",
    "        split_chains = np.concatenate([np.split(chain, 2) for chain in second_half_chains], axis=0)\n",
    "        logp_split_chains = np.concatenate([[log_posterior(np.split(chain, 2)[0])]+[log_posterior(np.split(chain, 2)[1])] \\\n",
    "                                    for chain in second_half_chains], axis=0)\n",
    "    # split_chains now has shape of (m, n, num_parameters)\n",
    "    m = split_chains.shape[0]  # number of chains after splitting\n",
    "    n = split_chains.shape[1]  # length of each chain after splitting\n",
    "\n",
    "    # mean of the jth chain, which has the shape of (m, num_parameters)\n",
    "    psi_j = np.mean(split_chains, axis=1)\n",
    "    psi_dot = np.mean(psi_j, axis=0)\n",
    "    \n",
    "    # between-sequence variance for theta\n",
    "    B = n / (m - 1) * np.sum((psi_j - psi_dot) ** 2, axis=0) # utilised broadcasting \n",
    "    \n",
    "    #compute within-sequence variance using ddof=1 computes the sample variance, which is an unbiased estimator.\n",
    "    W = np.mean(np.var(split_chains, axis=1, ddof=1), axis=0)\n",
    "    \n",
    "    # marginal posterior variance\n",
    "    var_plus = (n - 1) / n * W + B / n\n",
    "    \n",
    "    # potential scale reduction\n",
    "    R_hat = np.sqrt(var_plus / W)\n",
    "    \n",
    "    # Compute R_hat for log-probability\n",
    "    logp_psi_j = np.mean(logp_split_chains, axis=1)\n",
    "    logp_psi_dot = np.mean(logp_psi_j, axis=0)\n",
    "    logp_B = n / (m - 1) * np.sum((logp_psi_j - logp_psi_dot) ** 2, axis=0)\n",
    "    logp_W = np.mean(np.var(logp_split_chains, axis=1, ddof=1), axis=0)\n",
    "    logp_var_plus = (n - 1) / n * logp_W + logp_B / n\n",
    "    logp_R_hat = np.sqrt(logp_var_plus / logp_W)\n",
    "    \n",
    "    \n",
    "    return R_hat, logp_R_hat, split_chains, var_plus\n",
    "\n"
   ]
  },
  {
   "cell_type": "code",
   "execution_count": 5,
   "id": "e7cb3d3f",
   "metadata": {},
   "outputs": [],
   "source": [
    "# draw 5000 samples directly from the target distribution to show true 95% intervals and R_hat of the example\n",
    "from scipy.stats import chi2, norm\n",
    "\n",
    "percentiles = np.array([2.5, 97.5])\n",
    "\n",
    "# Find the chi-squared 95% interval\n",
    "chi_squared_interval = chi2.ppf(percentiles/100, 2)\n",
    "\n",
    "# Transform the percentiles\n",
    "transformed_chi_squared_interval = -0.5 * chi_squared_interval\n",
    "\n",
    "# find the 95% interval of standard normal\n",
    "theta_percentiles = norm.ppf(percentiles/100)"
   ]
  },
  {
   "cell_type": "code",
   "execution_count": 6,
   "id": "861edf38",
   "metadata": {},
   "outputs": [
    {
     "name": "stdout",
     "output_type": "stream",
     "text": [
      "   Iterations Theta_1 95% CI R_hat of theta_1 Theta_2 95% CI R_hat of theta_2     logp 95% CI R_hat logp\n",
      "0          50  [-3.19, 2.27]             6.27  [-2.20, 3.19]             7.19  [-8.78, -0.35]       4.24\n",
      "1         500  [-2.86, 1.73]             1.89  [-1.59, 1.52]             1.37  [-4.21, -0.02]       1.67\n",
      "2        2000  [-1.94, 2.29]             1.11  [-1.93, 1.90]             1.11  [-3.57, -0.03]       1.06\n",
      "3        5000  [-1.78, 2.03]             1.01  [-1.78, 1.90]             1.04  [-3.18, -0.03]       1.02\n",
      "The 95% intervals of -0.5 * chi-squared(2): [-3.69, -0.03]\n",
      "The 95% intervals of theta 1 and theta 2: [-1.96, 1.96]\n"
     ]
    }
   ],
   "source": [
    "# Running simulations and calculating statistics\n",
    "results = []\n",
    "for num_iters in num_iterations_list:\n",
    "    chains = metropolis(num_chains, num_iters, num_parameters, initial_points, proposal_cov)\n",
    "    R_hat, logp_R_hat, _, _ = compute_R_hat(chains, num_iters, num_parameters)\n",
    "    \n",
    "    second_half_chains = chains[:, num_iters//2:, :]\n",
    "    # The samples from the second half of all chains are used to compute the credible intervals.\n",
    "    # The reshape(-1) method flattens the 2D array into a 1D array.\n",
    "    theta_1 = second_half_chains[:, :, 0].reshape(-1)\n",
    "    theta_2 = second_half_chains[:, :, 1].reshape(-1)\n",
    "    # Evaluate log posterior of all simulated theta\n",
    "    logp = log_posterior(second_half_chains.reshape(-1, 2))\n",
    "\n",
    "    # Compute the 2.5% and 97.5% percentiles for credible intervals\n",
    "    # np.percentile sorts the input array in ascending orde and computes the desired percentile values.\n",
    "    credible_interval_theta_1 = np.percentile(theta_1, [2.5, 97.5])\n",
    "    credible_interval_theta_2 = np.percentile(theta_2, [2.5, 97.5])\n",
    "    credible_interval_logp = np.percentile(logp, [2.5, 97.5])\n",
    "    # append statistics in a tuple.\n",
    "    results.append((num_iters, credible_interval_theta_1, credible_interval_theta_2, R_hat, credible_interval_logp, logp_R_hat))\n",
    "    \n",
    "# Formatting the results for display in a table\n",
    "data = {\n",
    "    \"Iterations\": [r[0] for r in results],\n",
    "    \"Theta_1 95% CI\": [f\"[{ci[0]:.2f}, {ci[1]:.2f}]\" for ci in [r[1] for r in results]],\n",
    "    \"R_hat of theta_1\": [f\"{r[3][0]:.2f}\" for r in results],\n",
    "    \"Theta_2 95% CI\": [f\"[{ci[0]:.2f}, {ci[1]:.2f}]\" for ci in [r[2] for r in results]],\n",
    "    \"R_hat of theta_2\": [f\"{r[3][1]:.2f}\" for r in results],\n",
    "    \"logp 95% CI\": [f\"[{ci[0]:.2f}, {ci[1]:.2f}]\" for ci in [r[4] for r in results]],\n",
    "    \"R_hat logp\": [f\"{r[5]:.2f}\" for r in results]\n",
    "}\n",
    "\n",
    "df = pd.DataFrame(data)\n",
    "pd.set_option('display.max_columns', None)  # Show all columns\n",
    "pd.set_option('display.expand_frame_repr', False)  # Do not wrap the row display\n",
    "print(df)\n",
    "\n",
    "print(f\"The 95% intervals of {-1/2} * chi-squared(2): [{transformed_chi_squared_interval[1]:.2f}, {transformed_chi_squared_interval[0]:.2f}]\")\n",
    "print(f\"The 95% intervals of theta 1 and theta 2: [{theta_percentiles[0]:.2f}, {theta_percentiles[1]:.2f}]\")"
   ]
  },
  {
   "cell_type": "markdown",
   "id": "64234773",
   "metadata": {},
   "source": [
    "Now write a function to compute ESS."
   ]
  },
  {
   "cell_type": "markdown",
   "id": "75ac5218",
   "metadata": {},
   "source": [
    "My initial idea of computing the estimate for ESS is\n",
    "1. Compute all the autocorrelation from lag 1 autocorrelation to lag (n-1) autocorrelation.\n",
    "2. For each of the parameter of interest, compute odd integer T by checking if the sum of the next two successive autocorrelation estimate is negative.\n",
    "3. Compute partial sum up to time T as our estimate of $\\sum_{t=1}^{\\infty} \\rho_t$.\n",
    "4. Apply the formula for ESS using partial sum of estimated autocorrelations. "
   ]
  },
  {
   "cell_type": "markdown",
   "id": "52fda6e2",
   "metadata": {},
   "source": [
    "# ESS function"
   ]
  },
  {
   "cell_type": "code",
   "execution_count": 58,
   "id": "31d13480",
   "metadata": {},
   "outputs": [],
   "source": [
    "def ess_estimator(split_chains, var_plus):\n",
    "    \"\"\"\n",
    "    Estimate the effective sample size (ESS) and determine the lag T for the simulated chains.\n",
    "\n",
    "    This function calculates ESS for each parameter in the simulated chains by\n",
    "    computing the variograms, autocorrelations, and the lag T, which is the first lag where the sum of\n",
    "    the next two autocorrelations is negative.\n",
    "\n",
    "    Parameters:\n",
    "    -----------\n",
    "    split_chains : np.ndarray\n",
    "        The splitted chains\n",
    "    var_plus : np.ndarray\n",
    "        The marginal posterior variances for each parameter.\n",
    "\n",
    "    Returns:\n",
    "    --------\n",
    "    n_eff : list\n",
    "        A list containing the effective sample sizes for each parameter.\n",
    "    T : list\n",
    "        A list containing the lag T for each parameter.\n",
    "    \"\"\"\n",
    "    \n",
    "    m, n, k = split_chains.shape\n",
    "    # an array containing autocorrelation at different time lag of k paramaters \n",
    "    autocorrelations = np.zeros((n-1, k))\n",
    "    \n",
    "    for t in range(1, n): # from 1 to n-1 lag\n",
    "    # compute variograms\n",
    "        V_t = 0\n",
    "        for j in range(m):\n",
    "            # range from t because of python index\n",
    "            for i in range(t, n):\n",
    "                V_t += (split_chains[j, i, :] - split_chains[j, i-(t-1), :]) ** 2\n",
    "    \n",
    "        V_t = 1/(m * (n - t)) * V_t\n",
    "    \n",
    "        rho_t = 1 - V_t / (2 * var_plus)\n",
    "    \n",
    "        autocorrelations[t-1, :] = rho_t \n",
    "        \n",
    "    T = [n-1] * k # set for dealing with the scenario where stopping criteria is not found.\n",
    "    \n",
    "    # stopping criteria: sum of autocorrelation estimates for 2 successive lags is negative\n",
    "    n_eff = []\n",
    "\n",
    "    # calcululate the upper index for the partial sum for computation of our estimate of sum of autocorrelations, \n",
    "    # by considering stopping criteria, which is when the sum of autocorrelation estimates for 2 successive lags is negative.\n",
    "    \n",
    "    # Iterate over each parameter\n",
    "    for parameter_idx in range(k):\n",
    "        # we don't include the final two arrays of autocorrelation when checking for stopping criteria,\n",
    "        # otherwise list index would be out of range\n",
    "        for idx, rho in enumerate(autocorrelations[0:n-3,:]):\n",
    "            # if autocorrelation has odd integer lag\n",
    "             if idx% 2 == 0:\n",
    "                    # if the next 2 autocorrelations sum to negative value, stop the the iteration.\n",
    "                    if autocorrelations[idx+1][parameter_idx] + autocorrelations[idx+2][parameter_idx] < 0:\n",
    "                        T[parameter_idx] = idx\n",
    "                        break\n",
    "                    \n",
    "        # for each of the k parameters, we sum autocorrelations of each parameter up to their own stopping time lag.  \n",
    "        n_eff.append((m * n) / (1 + 2 * np.sum([autocorrelation[parameter_idx] for autocorrelation in autocorrelations[:T[parameter_idx]+1]])))\n",
    "    \n",
    "    T = [t + 1 for t in T] # to adjust for python indexing \n",
    "    return n_eff, T\n",
    "    "
   ]
  },
  {
   "cell_type": "markdown",
   "id": "701efc8f",
   "metadata": {},
   "source": [
    "For different number of iterations, compute the ESS for both parameters."
   ]
  },
  {
   "cell_type": "code",
   "execution_count": 8,
   "id": "842d2a61",
   "metadata": {
    "scrolled": false
   },
   "outputs": [],
   "source": [
    "ess_estimand = []\n",
    "for num_iters in num_iterations_list:\n",
    "    chains = metropolis(num_chains, num_iters, num_parameters, initial_points, proposal_cov)\n",
    "    _, _, split_chains, var_plus= compute_R_hat(chains, num_iters, num_parameters)\n",
    "    n_eff, _ = ess_estimator(split_chains, var_plus)\n",
    "    ess_estimand.append(n_eff)"
   ]
  },
  {
   "cell_type": "code",
   "execution_count": 9,
   "id": "de161f1c",
   "metadata": {
    "scrolled": true
   },
   "outputs": [
    {
     "data": {
      "text/plain": [
       "[[5.361457576644736, 5.324640384189441],\n",
       " [7.574631374808004, 14.561473347944952],\n",
       " [45.02062970610799, 44.37512969755534],\n",
       " [130.80929280002164, 103.02663716551329]]"
      ]
     },
     "execution_count": 9,
     "metadata": {},
     "output_type": "execute_result"
    }
   ],
   "source": [
    "ess_estimand"
   ]
  },
  {
   "cell_type": "code",
   "execution_count": 10,
   "id": "e6a15ac6",
   "metadata": {
    "scrolled": true
   },
   "outputs": [
    {
     "name": "stdout",
     "output_type": "stream",
     "text": [
      "   Iterations ESS of theta 1 ESS of theta 2\n",
      "0          50           5.36           5.32\n",
      "1         500           7.57          14.56\n",
      "2        2000          45.02          44.38\n",
      "3        5000         130.81         103.03\n"
     ]
    }
   ],
   "source": [
    "ess_data = {\n",
    "    \"Iterations\": [iteration for iteration in num_iterations_list],\n",
    "    \"ESS of theta 1\": [f\"{ess[0]:.2f}\" for ess in ess_estimand],\n",
    "    \"ESS of theta 2\": [f\"{ess[1]:.2f}\" for ess in ess_estimand],\n",
    "    \n",
    "}\n",
    "\n",
    "ess_df = pd.DataFrame(ess_data)\n",
    "pd.set_option('display.max_columns', None)  # Show all columns\n",
    "pd.set_option('display.expand_frame_repr', False)  # Do not wrap the row display\n",
    "print(ess_df)"
   ]
  },
  {
   "cell_type": "code",
   "execution_count": null,
   "id": "90a6982c",
   "metadata": {},
   "outputs": [],
   "source": [
    "# T is index in python, T+1 in reality"
   ]
  },
  {
   "cell_type": "markdown",
   "id": "45974ed6",
   "metadata": {},
   "source": [
    "# Refined ESS that avoids unnecessary computation"
   ]
  },
  {
   "cell_type": "markdown",
   "id": "b046e241",
   "metadata": {},
   "source": [
    "I think ess_estimator function is not very efficient in computing ESS because autocorrelations are computed for all the lags, majority of which are not required in computing the partial sum. \n",
    "\n",
    "To optimize the computation of ESS, we should avoid computing unnecessary autocorrelations, i.e. compute up to lag T autocorrelation. Instead, we compute the autocorrelations incrementally, checking the stopping criterion at each step. Here is the refined approach:\n",
    "\n",
    "1. Set T to a default values of n for each parameter, which is return in the end if no successive terms are found to be negative. Initialise an empty list or array to store the computed autocorrelations.\n",
    "\n",
    "2. At the first iteration, we only compute lag 1 autocorrelation.\n",
    "\n",
    "3. At the second iteration, we compute lag 2 autocorrelation and the one ahead which is lag 3 autocorrelation, we take sum over the lag 2 and 3 autocorrelation and check if it is negative, if so, we can set T to be 1. Once T is fixed to a value less than n, we do not do further iteration on this parameter to update its value of T, we work with all other parameters until all of the parameters have T value less than n. (remember we only want odd integer T hence we only need to check whether the $\\rho_{t+1} + \\rho_{t+2} < 0$ for odd integer t.)\n",
    "\n",
    "4. For further iterations, we compute the next lag autocorrelation, we only need to compute lag n+1 autocorrelation at nth iteration, and repeat the checking procedure until all parameters have T value less than n."
   ]
  },
  {
   "cell_type": "code",
   "execution_count": 11,
   "id": "ab56f018",
   "metadata": {},
   "outputs": [],
   "source": [
    "def refined_ess_estimator(split_chains, var_plus):\n",
    "    \"\"\"\n",
    "    Estimate the effective sample size (ESS) and determine the lag T for the simulated chains efficiently.\n",
    "    This function calculates the ESS for each parameter in the simulated chains by computing the \n",
    "    necessary autocorrelations incrementally and checking the stopping criterion to minimise \n",
    "    unnecessary computations.\n",
    "\n",
    "    Parameters:\n",
    "    -----------\n",
    "    split_chains : np.ndarray\n",
    "        The split chains array with shape (number of chains, number of iterations, number of parameters).\n",
    "        This array contains the MCMC samples for which the ESS needs to be estimated.\n",
    "    \n",
    "    var_plus : np.ndarray\n",
    "        An array of the marginal posterior variances for each parameter. The length of this array should \n",
    "        match the number of parameters in the split_chains.\n",
    "\n",
    "    Returns:\n",
    "    --------\n",
    "    n_eff : list\n",
    "        A list containing the effective sample sizes for each parameter.\n",
    "    \n",
    "    T : list\n",
    "        A list containing the lag T for each parameter. T indicates the maximum lag considered for \n",
    "        the autocorrelations used in the ESS calculation.\n",
    "\n",
    "    Method:\n",
    "    -------\n",
    "    1. Initialize the lag T for each parameter to the maximum possible value.\n",
    "    2. Compute the autocorrelation incrementally, starting from lag 1.\n",
    "    3. For each new lag, calculate the autocorrelation and check the stopping criterion (whether the \n",
    "       sum of two successive autocorrelations is negative).\n",
    "    4. If the stopping criterion is met for a parameter, fix its T value and exclude it from further computations.\n",
    "    5. Continue this process until T is set for all parameters.\n",
    "    6. Compute the ESS using the sum of autocorrelations up to the determined lag T for each parameter.\n",
    "\n",
    "    Notes:\n",
    "    ------\n",
    "    - The stopping criterion is checked for odd lags only. Once the sum of next two successive autocorrelations \n",
    "      (at odd lags) is negative for a parameter, its T value is fixed, and further computations for that \n",
    "      parameter are skipped.\n",
    "    - This approach ensures computational efficiency by avoiding unnecessary autocorrelation computations \n",
    "      for lags beyond the determined T.\n",
    "    \"\"\"\n",
    "    m, n, k = split_chains.shape\n",
    "    # an array containing autocorrelation at different time lag of k paramaters \n",
    "    autocorrelations = np.zeros((n-1, k))\n",
    "    # set default value of T when stopping criteria is not found. \n",
    "    T = [n-1] * k # (n-1)th is the index for the lag n autocorrelation\n",
    "    \n",
    "    # from 1 to n-2 lag since we compute the next autocorrelation at each iteration\n",
    "    for t in range(1, n-1):\n",
    "        # compute variograms\n",
    "        if t == 1:\n",
    "            V_t = 0\n",
    "            for j in range(m):\n",
    "                # range from t because of python index\n",
    "                for i in range(t, n):\n",
    "                    V_t += (split_chains[j, i, :] - split_chains[j, i-(t-1), :]) ** 2\n",
    "            V_t = 1/(m * (n - t)) * V_t\n",
    "            rho_t = 1 - V_t / (2 * var_plus)\n",
    "            autocorrelations[t-1, :] = rho_t\n",
    "                    \n",
    "        elif t == 2: \n",
    "            V_t = 0\n",
    "            V_t_next = 0\n",
    "            for j in range(m):\n",
    "                # range from t because of python index\n",
    "                for i in range(t, n):\n",
    "                    V_t += (split_chains[j, i, :] - split_chains[j, i-(t-1), :]) ** 2\n",
    "                for i in range(t+1, n):\n",
    "                    V_t_next += (split_chains[j, i, :] - split_chains[j, i-t, :]) ** 2\n",
    "            V_t = 1/(m * (n - t)) * V_t\n",
    "            V_t_next = 1/(m * (n - (t+1))) * V_t_next\n",
    "            rho_t = 1 - V_t / (2 * var_plus)\n",
    "            rho_t_next = 1 - V_t_next / (2 * var_plus)\n",
    "            autocorrelations[t-1, :] = rho_t\n",
    "            autocorrelations[t, :] = rho_t_next\n",
    "            if t % 2 == 0:\n",
    "                for parameter_idx in range(k):\n",
    "                    # Only update if T[parameter_idx] is still at its default value n-1\n",
    "                    if T[parameter_idx] == n-1: \n",
    "                        if autocorrelations[t-1][parameter_idx] + autocorrelations[t][parameter_idx] < 0:\n",
    "                            T[parameter_idx] = t-2\n",
    "                            \n",
    "            # break the for loop only when all elements of T are less than n-1. \n",
    "            if all(a < n-1 for a in T):\n",
    "                break \n",
    "        else:\n",
    "            V_t_next = 0\n",
    "            \n",
    "            for j in range(m):\n",
    "                # range from t because of python index\n",
    "                for i in range(t+1, n):\n",
    "                    V_t_next += (split_chains[j, i, :] - split_chains[j, i-t, :]) ** 2        \n",
    "            V_t_next = 1/(m * (n - (t+1))) * V_t_next\n",
    "            rho_t_next = 1 - V_t_next / (2 * var_plus)\n",
    "            autocorrelations[t, :] = rho_t_next\n",
    "            if t % 2 == 0:\n",
    "                for parameter_idx in range(k):\n",
    "                    # Only update if T[parameter_idx] is still at its default value n-1\n",
    "                    if T[parameter_idx] == n-1:  \n",
    "                        if autocorrelations[t-1][parameter_idx] + autocorrelations[t][parameter_idx] < 0:\n",
    "                            T[parameter_idx] = t-2\n",
    "                        \n",
    "            # break the for loop only when all elements of T are less than n-1. \n",
    "            if all(a < n-1 for a in T):\n",
    "                break \n",
    "    n_eff = []\n",
    "    for parameter_idx in range(k):    \n",
    "        # for each of the k parameters, we sum autocorrelations of each parameter up to their own stopping time lag.  \n",
    "        n_eff.append((m * n) / (1 + 2 * np.sum([autocorrelation[parameter_idx] for autocorrelation in autocorrelations[:T[parameter_idx]+1]])))\n",
    "    # add one to T because T is python index. \n",
    "    T = [t + 1 for t in T]\n",
    "    return n_eff, T, autocorrelations"
   ]
  },
  {
   "cell_type": "code",
   "execution_count": 36,
   "id": "d0b3aeb3",
   "metadata": {},
   "outputs": [],
   "source": [
    "ess_estimand = []\n",
    "for num_iters in num_iterations_list:\n",
    "    chains = metropolis(num_chains, num_iters, num_parameters, initial_points, proposal_cov)\n",
    "    _, _, split_chains, var_plus= compute_R_hat(chains, num_iters, num_parameters)\n",
    "    n_eff, _, _ = refined_ess_estimator(split_chains, var_plus)\n",
    "    ess_estimand.append(n_eff)"
   ]
  },
  {
   "cell_type": "code",
   "execution_count": 37,
   "id": "888aa09a",
   "metadata": {},
   "outputs": [
    {
     "name": "stdout",
     "output_type": "stream",
     "text": [
      "   Iterations ESS of theta 1 ESS of theta 2\n",
      "0          50           5.36           5.32\n",
      "1         500           7.57          14.56\n",
      "2        2000          45.02          44.38\n",
      "3        5000         130.81         103.03\n"
     ]
    }
   ],
   "source": [
    "ess_data = {\n",
    "    \"Iterations\": [iteration for iteration in num_iterations_list],\n",
    "    \"ESS of theta 1\": [f\"{ess[0]:.2f}\" for ess in ess_estimand],\n",
    "    \"ESS of theta 2\": [f\"{ess[1]:.2f}\" for ess in ess_estimand],\n",
    "    \n",
    "}\n",
    "\n",
    "ess_df = pd.DataFrame(ess_data)\n",
    "pd.set_option('display.max_columns', None)  # Show all columns\n",
    "pd.set_option('display.expand_frame_repr', False)  # Do not wrap the row display\n",
    "print(ess_df)"
   ]
  },
  {
   "cell_type": "markdown",
   "id": "40d38e64",
   "metadata": {},
   "source": [
    "Confirms that two estimator produce the same result. "
   ]
  },
  {
   "cell_type": "markdown",
   "id": "c18152c1",
   "metadata": {},
   "source": [
    "# Comparison of the performance of two ESS estimators on the bivariate example."
   ]
  },
  {
   "cell_type": "code",
   "execution_count": 5,
   "id": "75d13790",
   "metadata": {
    "scrolled": true
   },
   "outputs": [
    {
     "name": "stdout",
     "output_type": "stream",
     "text": [
      "Ess_estimator function took 2.918672 seconds\n",
      "Refined_ess_estimator function took 1.513715 seconds\n",
      "Refined ESS Estimator is faster by 1.404958 \n"
     ]
    }
   ],
   "source": [
    "import time\n",
    "\n",
    "num_iters = 2000\n",
    "initial_points = np.array([[0, 0],\n",
    "                           [-3, -3],\n",
    "                           [3, 3],\n",
    "                           [3, -3],\n",
    "                           [-3, 3]])\n",
    "\n",
    "chains = metropolis(num_chains, num_iters, num_parameters, initial_points, proposal_cov)\n",
    "\n",
    "_, _, split_chains, var_plus= compute_R_hat(chains, num_iters, num_parameters)\n",
    "x\n",
    "start_time = time.time()\n",
    "ess_estimator(split_chains, var_plus)\n",
    "end_time = time.time()\n",
    "time_taken1 = end_time - start_time\n",
    "\n",
    "# Measure time for function2\n",
    "start_time = time.time()\n",
    "refined_ess_estimator(split_chains, var_plus)\n",
    "end_time = time.time()\n",
    "time_taken2 = end_time - start_time\n",
    "\n",
    "print(f\"Ess_estimator function took {time_taken1:.6f} seconds\")\n",
    "print(f\"Refined_ess_estimator function took {time_taken2:.6f} seconds\")\n",
    "print(f\"Refined ESS Estimator is faster by {time_taken1-time_taken2:.6f} seconds \")"
   ]
  },
  {
   "cell_type": "code",
   "execution_count": 85,
   "id": "e6c1d4e6",
   "metadata": {},
   "outputs": [
    {
     "name": "stdout",
     "output_type": "stream",
     "text": [
      "Ess_estimator function took 16.662058 seconds\n",
      "Refined_ess_estimator function took 6.866198 seconds\n",
      "Refined ESS Estimator is faster by 9.795860 \n"
     ]
    }
   ],
   "source": [
    "num_iters = 5000\n",
    "\n",
    "chains = metropolis(num_chains, num_iters, num_parameters, initial_points, proposal_cov)\n",
    "\n",
    "_, _, split_chains, var_plus= compute_R_hat(chains, num_iters, num_parameters)\n",
    "\n",
    "\n",
    "start_time = time.time()\n",
    "ess_estimator(split_chains, var_plus)\n",
    "end_time = time.time()\n",
    "time_taken1 = end_time - start_time\n",
    "\n",
    "# Measure time for function2\n",
    "start_time = time.time()\n",
    "refined_ess_estimator(split_chains, var_plus)\n",
    "end_time = time.time()\n",
    "time_taken2 = end_time - start_time\n",
    "\n",
    "print(f\"Ess_estimator function took {time_taken1:.6f} seconds\")\n",
    "print(f\"Refined_ess_estimator function took {time_taken2:.6f} seconds\")\n",
    "print(f\"Refined ESS Estimator is faster by {time_taken1-time_taken2:.6f} seconds\")"
   ]
  },
  {
   "cell_type": "code",
   "execution_count": 86,
   "id": "83196840",
   "metadata": {},
   "outputs": [
    {
     "name": "stdout",
     "output_type": "stream",
     "text": [
      "Ess_estimator function took 63.830688 seconds\n",
      "Refined_ess_estimator function took 11.943722 seconds\n",
      "Refined ESS Estimator is faster by 51.886966 \n"
     ]
    }
   ],
   "source": [
    "num_iters = 10000\n",
    "\n",
    "chains = metropolis(num_chains, num_iters, num_parameters, initial_points, proposal_cov)\n",
    "\n",
    "_, _, split_chains, var_plus= compute_R_hat(chains, num_iters, num_parameters)\n",
    "\n",
    "\n",
    "start_time = time.time()\n",
    "ess_estimator(split_chains, var_plus)\n",
    "end_time = time.time()\n",
    "time_taken1 = end_time - start_time\n",
    "\n",
    "# Measure time for function2\n",
    "start_time = time.time()\n",
    "refined_ess_estimator(split_chains, var_plus)\n",
    "end_time = time.time()\n",
    "time_taken2 = end_time - start_time\n",
    "\n",
    "print(f\"Ess_estimator function took {time_taken1:.6f} seconds\")\n",
    "print(f\"Refined_ess_estimator function took {time_taken2:.6f} seconds\")\n",
    "print(f\"Refined ESS Estimator is faster by {time_taken1-time_taken2:.6f} seconds\")"
   ]
  },
  {
   "cell_type": "markdown",
   "id": "f9f162df",
   "metadata": {},
   "source": [
    "The difference between the time taken to run both estimator would be more pronounced when longer length of chain is simulated. "
   ]
  },
  {
   "cell_type": "markdown",
   "id": "2c406665",
   "metadata": {},
   "source": [
    "The refined ESS estimator takes a shorter time to run compared to the original estimator. By avoiding the computation of unnecessary autocorrelations, it reduces the overall computational load. In scenarios where the chains mix well and the stopping criterion is met early, the refined estimator shows significant performance improvements. This efficiency gain is particularly valuable for high-dimensional datasets or long MCMC chains, where the cost of computing all autocorrelations becomes prohibitive."
   ]
  },
  {
   "cell_type": "markdown",
   "id": "816c36f6",
   "metadata": {},
   "source": [
    "In summary, the refined ESS estimator offers a more efficient alternative to the original method by selectively computing autocorrelations and stopping early when possible. This results in faster execution times and reduced computational overhead, making it a more suitable choice for large-scale MCMC simulations."
   ]
  },
  {
   "cell_type": "markdown",
   "id": "b7457910",
   "metadata": {},
   "source": [
    "## Plot autocorrelation estimates collected in ESS function across the iterations. "
   ]
  },
  {
   "cell_type": "code",
   "execution_count": 108,
   "id": "f869734d",
   "metadata": {
    "scrolled": true
   },
   "outputs": [],
   "source": [
    "num_iters = 5000\n",
    "chains = metropolis(num_chains, num_iters, num_parameters, initial_points, proposal_cov)\n",
    "\n",
    "_, _, split_chains, var_plus= compute_R_hat(chains, num_iters, num_parameters)\n",
    "n_eff, T, autocorrelations = refined_ess_estimator(split_chains, var_plus)\n",
    "iterations_1 = np.arange(1, T[0]+1)\n",
    "iterations_2 = np.arange(1, T[1]+1)"
   ]
  },
  {
   "cell_type": "code",
   "execution_count": 112,
   "id": "d678afd9",
   "metadata": {
    "scrolled": false
   },
   "outputs": [
    {
     "data": {
      "text/plain": [
       "<matplotlib.legend.Legend at 0x1ccf23f7f90>"
      ]
     },
     "execution_count": 112,
     "metadata": {},
     "output_type": "execute_result"
    },
    {
     "data": {
      "image/png": "[encoded data removed]",
      "text/plain": [
       "<Figure size 640x480 with 1 Axes>"
      ]
     },
     "metadata": {},
     "output_type": "display_data"
    }
   ],
   "source": [
    "plt.plot(iterations_1, autocorrelations[0:T[0], 0], label = 'theta 1')\n",
    "plt.plot(iterations_2, autocorrelations[0:T[1], 1], label = 'theta 2')\n",
    "plt.title('Plot of Autocorrelations against Iterations')\n",
    "plt.xlabel('Time lag t')\n",
    "plt.ylabel('Autocorrelation estimates')\n",
    "plt.xlim(0,300)\n",
    "plt.legend()"
   ]
  }
 ],
 "metadata": {
  "kernelspec": {
   "display_name": "Python 3 (ipykernel)",
   "language": "python",
   "name": "python3"
  },
  "language_info": {
   "codemirror_mode": {
    "name": "ipython",
    "version": 3
   },
   "file_extension": ".py",
   "mimetype": "text/x-python",
   "name": "python",
   "nbconvert_exporter": "python",
   "pygments_lexer": "ipython3",
   "version": "3.11.5"
  }
 },
 "nbformat": 4,
 "nbformat_minor": 5
}
